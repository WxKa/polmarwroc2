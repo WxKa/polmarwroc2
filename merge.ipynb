{
 "cells": [
  {
   "cell_type": "code",
   "execution_count": null,
   "metadata": {},
   "outputs": [],
   "source": [
    "# wersja uproszczona, brak zapisu do s3"
   ]
  },
  {
   "cell_type": "code",
   "execution_count": 1,
   "metadata": {},
   "outputs": [],
   "source": [
    "import pandas as pd\n",
    "from pathlib import Path"
   ]
  },
  {
   "cell_type": "code",
   "execution_count": 2,
   "metadata": {},
   "outputs": [],
   "source": [
    "LOCAL_DATA = Path('data')\n",
    "\n",
    "def halfmarathon_wroclaw_final_cleaned_download(year):\n",
    "    return pd.read_csv(LOCAL_DATA / 'current' / f'halfmarathon_wroclaw_{year}__final_cleaned.csv', sep=';')\n",
    "\n",
    "df_2023 = halfmarathon_wroclaw_final_cleaned_download(2023)\n",
    "df_2024 = halfmarathon_wroclaw_final_cleaned_download(2024)"
   ]
  },
  {
   "cell_type": "code",
   "execution_count": 3,
   "metadata": {},
   "outputs": [
    {
     "data": {
      "text/plain": [
       "(18190, 5)"
      ]
     },
     "execution_count": 3,
     "metadata": {},
     "output_type": "execute_result"
    }
   ],
   "source": [
    "# połączenie DataFrame'ów w jeden\n",
    "\n",
    "df_full = pd.concat([df_2023, df_2024], ignore_index=True)\n",
    "df_full.shape"
   ]
  },
  {
   "cell_type": "code",
   "execution_count": 4,
   "metadata": {},
   "outputs": [],
   "source": [
    "df_full.to_csv(LOCAL_DATA / 'current' / 'final_cleaned.csv', index=False, sep=\";\")"
   ]
  }
 ],
 "metadata": {
  "kernelspec": {
   "display_name": "Python 3.11.11 ('app_zadanie_9')",
   "language": "python",
   "name": "python3"
  },
  "language_info": {
   "codemirror_mode": {
    "name": "ipython",
    "version": 3
   },
   "file_extension": ".py",
   "mimetype": "text/x-python",
   "name": "python",
   "nbconvert_exporter": "python",
   "pygments_lexer": "ipython3",
   "version": "3.11.11"
  },
  "orig_nbformat": 4,
  "vscode": {
   "interpreter": {
    "hash": "d9849298205bf119be78e08aa2893b610e9f9d52cfc1c9432f5f67782a2e2826"
   }
  }
 },
 "nbformat": 4,
 "nbformat_minor": 2
}
